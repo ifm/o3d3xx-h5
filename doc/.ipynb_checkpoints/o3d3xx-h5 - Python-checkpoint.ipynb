{
 "cells": [
  {
   "cell_type": "code",
   "execution_count": 19,
   "metadata": {
    "collapsed": false
   },
   "outputs": [],
   "source": [
    "import numpy as np\n",
    "import h5py\n",
    "import matplotlib.pyplot as plt"
   ]
  },
  {
   "cell_type": "code",
   "execution_count": 20,
   "metadata": {
    "collapsed": false
   },
   "outputs": [],
   "source": [
    "%matplotlib notebook"
   ]
  },
  {
   "cell_type": "code",
   "execution_count": 21,
   "metadata": {
    "collapsed": false
   },
   "outputs": [],
   "source": [
    "h5 = h5py.File(\"o3d3xx.h5\", \"r+\")"
   ]
  },
  {
   "cell_type": "code",
   "execution_count": 22,
   "metadata": {
    "collapsed": false
   },
   "outputs": [
    {
     "data": {
      "text/plain": [
       "[u'o3d3xx']"
      ]
     },
     "execution_count": 22,
     "metadata": {},
     "output_type": "execute_result"
    }
   ],
   "source": [
    "h5.keys()"
   ]
  },
  {
   "cell_type": "code",
   "execution_count": 23,
   "metadata": {
    "collapsed": false
   },
   "outputs": [],
   "source": [
    "a_grp = h5['/o3d3xx/camera/amplitude']"
   ]
  },
  {
   "cell_type": "code",
   "execution_count": 24,
   "metadata": {
    "collapsed": false
   },
   "outputs": [
    {
     "data": {
      "text/plain": [
       "<HDF5 group \"/o3d3xx/camera/amplitude\" (3 members)>"
      ]
     },
     "execution_count": 24,
     "metadata": {},
     "output_type": "execute_result"
    }
   ],
   "source": [
    "a_grp"
   ]
  },
  {
   "cell_type": "code",
   "execution_count": 25,
   "metadata": {
    "collapsed": false
   },
   "outputs": [
    {
     "data": {
      "text/plain": [
       "[u'000000000', u'000000001', u'000000002']"
      ]
     },
     "execution_count": 25,
     "metadata": {},
     "output_type": "execute_result"
    }
   ],
   "source": [
    "a_grp.keys()"
   ]
  },
  {
   "cell_type": "code",
   "execution_count": 26,
   "metadata": {
    "collapsed": false
   },
   "outputs": [],
   "source": [
    "amp = a_grp.keys()[0]"
   ]
  },
  {
   "cell_type": "code",
   "execution_count": 27,
   "metadata": {
    "collapsed": false
   },
   "outputs": [
    {
     "data": {
      "text/plain": [
       "u'000000000'"
      ]
     },
     "execution_count": 27,
     "metadata": {},
     "output_type": "execute_result"
    }
   ],
   "source": [
    "amp"
   ]
  },
  {
   "cell_type": "code",
   "execution_count": 28,
   "metadata": {
    "collapsed": false
   },
   "outputs": [],
   "source": [
    "dset = a_grp[amp]"
   ]
  },
  {
   "cell_type": "code",
   "execution_count": 29,
   "metadata": {
    "collapsed": false
   },
   "outputs": [
    {
     "data": {
      "text/plain": [
       "<HDF5 dataset \"000000000\": shape (132, 176), type \"<u2\">"
      ]
     },
     "execution_count": 29,
     "metadata": {},
     "output_type": "execute_result"
    }
   ],
   "source": [
    "dset"
   ]
  },
  {
   "cell_type": "code",
   "execution_count": 30,
   "metadata": {
    "collapsed": false
   },
   "outputs": [],
   "source": [
    "arr = dset[...]"
   ]
  },
  {
   "cell_type": "code",
   "execution_count": 31,
   "metadata": {
    "collapsed": false
   },
   "outputs": [
    {
     "data": {
      "text/plain": [
       "array([[1219, 1089,  985, ..., 1197, 1162, 1093],\n",
       "       [ 718,  521,  660, ..., 1193, 1164, 1119],\n",
       "       [ 722,  681,  893, ..., 1187, 1183, 1152],\n",
       "       ..., \n",
       "       [ 726,  282,  287, ...,  314,  309,  284],\n",
       "       [ 674,  283,  297, ...,  306,  300,  295],\n",
       "       [ 596,  275,  287, ...,  306,  311,  304]], dtype=uint16)"
      ]
     },
     "execution_count": 31,
     "metadata": {},
     "output_type": "execute_result"
    }
   ],
   "source": [
    "arr"
   ]
  },
  {
   "cell_type": "code",
   "execution_count": 32,
   "metadata": {
    "collapsed": false
   },
   "outputs": [
    {
     "data": {
      "application/javascript": [
       "/* Put everything inside the global mpl namespace */\n",
       "window.mpl = {};\n",
       "\n",
       "mpl.get_websocket_type = function() {\n",
       "    if (typeof(WebSocket) !== 'undefined') {\n",
       "        return WebSocket;\n",
       "    } else if (typeof(MozWebSocket) !== 'undefined') {\n",
       "        return MozWebSocket;\n",
       "    } else {\n",
       "        alert('Your browser does not have WebSocket support.' +\n",
       "              'Please try Chrome, Safari or Firefox ≥ 6. ' +\n",
       "              'Firefox 4 and 5 are also supported but you ' +\n",
       "              'have to enable WebSockets in about:config.');\n",
       "    };\n",
       "}\n",
       "\n",
       "mpl.figure = function(figure_id, websocket, ondownload, parent_element) {\n",
       "    this.id = figure_id;\n",
       "\n",
       "    this.ws = websocket;\n",
       "\n",
       "    this.supports_binary = (this.ws.binaryType != undefined);\n",
       "\n",
       "    if (!this.supports_binary) {\n",
       "        var warnings = document.getElementById(\"mpl-warnings\");\n",
       "        if (warnings) {\n",
       "            warnings.style.display = 'block';\n",
       "            warnings.textContent = (\n",
       "                \"This browser does not support binary websocket messages. \" +\n",
       "                    \"Performance may be slow.\");\n",
       "        }\n",
       "    }\n",
       "\n",
       "    this.imageObj = new Image();\n",
       "\n",
       "    this.context = undefined;\n",
       "    this.message = undefined;\n",
       "    this.canvas = undefined;\n",
       "    this.rubberband_canvas = undefined;\n",
       "    this.rubberband_context = undefined;\n",
       "    this.format_dropdown = undefined;\n",
       "\n",
       "    this.image_mode = 'full';\n",
       "\n",
       "    this.root = $('<div/>');\n",
       "    this._root_extra_style(this.root)\n",
       "    this.root.attr('style', 'display: inline-block');\n",
       "\n",
       "    $(parent_element).append(this.root);\n",
       "\n",
       "    this._init_header(this);\n",
       "    this._init_canvas(this);\n",
       "    this._init_toolbar(this);\n",
       "\n",
       "    var fig = this;\n",
       "\n",
       "    this.waiting = false;\n",
       "\n",
       "    this.ws.onopen =  function () {\n",
       "            fig.send_message(\"supports_binary\", {value: fig.supports_binary});\n",
       "            fig.send_message(\"send_image_mode\", {});\n",
       "            fig.send_message(\"refresh\", {});\n",
       "        }\n",
       "\n",
       "    this.imageObj.onload = function() {\n",
       "            if (fig.image_mode == 'full') {\n",
       "                // Full images could contain transparency (where diff images\n",
       "                // almost always do), so we need to clear the canvas so that\n",
       "                // there is no ghosting.\n",
       "                fig.context.clearRect(0, 0, fig.canvas.width, fig.canvas.height);\n",
       "            }\n",
       "            fig.context.drawImage(fig.imageObj, 0, 0);\n",
       "            fig.waiting = false;\n",
       "        };\n",
       "\n",
       "    this.imageObj.onunload = function() {\n",
       "        this.ws.close();\n",
       "    }\n",
       "\n",
       "    this.ws.onmessage = this._make_on_message_function(this);\n",
       "\n",
       "    this.ondownload = ondownload;\n",
       "}\n",
       "\n",
       "mpl.figure.prototype._init_header = function() {\n",
       "    var titlebar = $(\n",
       "        '<div class=\"ui-dialog-titlebar ui-widget-header ui-corner-all ' +\n",
       "        'ui-helper-clearfix\"/>');\n",
       "    var titletext = $(\n",
       "        '<div class=\"ui-dialog-title\" style=\"width: 100%; ' +\n",
       "        'text-align: center; padding: 3px;\"/>');\n",
       "    titlebar.append(titletext)\n",
       "    this.root.append(titlebar);\n",
       "    this.header = titletext[0];\n",
       "}\n",
       "\n",
       "\n",
       "\n",
       "mpl.figure.prototype._canvas_extra_style = function(canvas_div) {\n",
       "\n",
       "}\n",
       "\n",
       "\n",
       "mpl.figure.prototype._root_extra_style = function(canvas_div) {\n",
       "\n",
       "}\n",
       "\n",
       "mpl.figure.prototype._init_canvas = function() {\n",
       "    var fig = this;\n",
       "\n",
       "    var canvas_div = $('<div/>');\n",
       "\n",
       "    canvas_div.attr('style', 'position: relative; clear: both; outline: 0');\n",
       "\n",
       "    function canvas_keyboard_event(event) {\n",
       "        return fig.key_event(event, event['data']);\n",
       "    }\n",
       "\n",
       "    canvas_div.keydown('key_press', canvas_keyboard_event);\n",
       "    canvas_div.keyup('key_release', canvas_keyboard_event);\n",
       "    this.canvas_div = canvas_div\n",
       "    this._canvas_extra_style(canvas_div)\n",
       "    this.root.append(canvas_div);\n",
       "\n",
       "    var canvas = $('<canvas/>');\n",
       "    canvas.addClass('mpl-canvas');\n",
       "    canvas.attr('style', \"left: 0; top: 0; z-index: 0; outline: 0\")\n",
       "\n",
       "    this.canvas = canvas[0];\n",
       "    this.context = canvas[0].getContext(\"2d\");\n",
       "\n",
       "    var rubberband = $('<canvas/>');\n",
       "    rubberband.attr('style', \"position: absolute; left: 0; top: 0; z-index: 1;\")\n",
       "\n",
       "    var pass_mouse_events = true;\n",
       "\n",
       "    canvas_div.resizable({\n",
       "        start: function(event, ui) {\n",
       "            pass_mouse_events = false;\n",
       "        },\n",
       "        resize: function(event, ui) {\n",
       "            fig.request_resize(ui.size.width, ui.size.height);\n",
       "        },\n",
       "        stop: function(event, ui) {\n",
       "            pass_mouse_events = true;\n",
       "            fig.request_resize(ui.size.width, ui.size.height);\n",
       "        },\n",
       "    });\n",
       "\n",
       "    function mouse_event_fn(event) {\n",
       "        if (pass_mouse_events)\n",
       "            return fig.mouse_event(event, event['data']);\n",
       "    }\n",
       "\n",
       "    rubberband.mousedown('button_press', mouse_event_fn);\n",
       "    rubberband.mouseup('button_release', mouse_event_fn);\n",
       "    // Throttle sequential mouse events to 1 every 20ms.\n",
       "    rubberband.mousemove('motion_notify', mouse_event_fn);\n",
       "\n",
       "    rubberband.mouseenter('figure_enter', mouse_event_fn);\n",
       "    rubberband.mouseleave('figure_leave', mouse_event_fn);\n",
       "\n",
       "    canvas_div.on(\"wheel\", function (event) {\n",
       "        event = event.originalEvent;\n",
       "        event['data'] = 'scroll'\n",
       "        if (event.deltaY < 0) {\n",
       "            event.step = 1;\n",
       "        } else {\n",
       "            event.step = -1;\n",
       "        }\n",
       "        mouse_event_fn(event);\n",
       "    });\n",
       "\n",
       "    canvas_div.append(canvas);\n",
       "    canvas_div.append(rubberband);\n",
       "\n",
       "    this.rubberband = rubberband;\n",
       "    this.rubberband_canvas = rubberband[0];\n",
       "    this.rubberband_context = rubberband[0].getContext(\"2d\");\n",
       "    this.rubberband_context.strokeStyle = \"#000000\";\n",
       "\n",
       "    this._resize_canvas = function(width, height) {\n",
       "        // Keep the size of the canvas, canvas container, and rubber band\n",
       "        // canvas in synch.\n",
       "        canvas_div.css('width', width)\n",
       "        canvas_div.css('height', height)\n",
       "\n",
       "        canvas.attr('width', width);\n",
       "        canvas.attr('height', height);\n",
       "\n",
       "        rubberband.attr('width', width);\n",
       "        rubberband.attr('height', height);\n",
       "    }\n",
       "\n",
       "    // Set the figure to an initial 600x600px, this will subsequently be updated\n",
       "    // upon first draw.\n",
       "    this._resize_canvas(600, 600);\n",
       "\n",
       "    // Disable right mouse context menu.\n",
       "    $(this.rubberband_canvas).bind(\"contextmenu\",function(e){\n",
       "        return false;\n",
       "    });\n",
       "\n",
       "    function set_focus () {\n",
       "        canvas.focus();\n",
       "        canvas_div.focus();\n",
       "    }\n",
       "\n",
       "    window.setTimeout(set_focus, 100);\n",
       "}\n",
       "\n",
       "mpl.figure.prototype._init_toolbar = function() {\n",
       "    var fig = this;\n",
       "\n",
       "    var nav_element = $('<div/>')\n",
       "    nav_element.attr('style', 'width: 100%');\n",
       "    this.root.append(nav_element);\n",
       "\n",
       "    // Define a callback function for later on.\n",
       "    function toolbar_event(event) {\n",
       "        return fig.toolbar_button_onclick(event['data']);\n",
       "    }\n",
       "    function toolbar_mouse_event(event) {\n",
       "        return fig.toolbar_button_onmouseover(event['data']);\n",
       "    }\n",
       "\n",
       "    for(var toolbar_ind in mpl.toolbar_items) {\n",
       "        var name = mpl.toolbar_items[toolbar_ind][0];\n",
       "        var tooltip = mpl.toolbar_items[toolbar_ind][1];\n",
       "        var image = mpl.toolbar_items[toolbar_ind][2];\n",
       "        var method_name = mpl.toolbar_items[toolbar_ind][3];\n",
       "\n",
       "        if (!name) {\n",
       "            // put a spacer in here.\n",
       "            continue;\n",
       "        }\n",
       "        var button = $('<button/>');\n",
       "        button.addClass('ui-button ui-widget ui-state-default ui-corner-all ' +\n",
       "                        'ui-button-icon-only');\n",
       "        button.attr('role', 'button');\n",
       "        button.attr('aria-disabled', 'false');\n",
       "        button.click(method_name, toolbar_event);\n",
       "        button.mouseover(tooltip, toolbar_mouse_event);\n",
       "\n",
       "        var icon_img = $('<span/>');\n",
       "        icon_img.addClass('ui-button-icon-primary ui-icon');\n",
       "        icon_img.addClass(image);\n",
       "        icon_img.addClass('ui-corner-all');\n",
       "\n",
       "        var tooltip_span = $('<span/>');\n",
       "        tooltip_span.addClass('ui-button-text');\n",
       "        tooltip_span.html(tooltip);\n",
       "\n",
       "        button.append(icon_img);\n",
       "        button.append(tooltip_span);\n",
       "\n",
       "        nav_element.append(button);\n",
       "    }\n",
       "\n",
       "    var fmt_picker_span = $('<span/>');\n",
       "\n",
       "    var fmt_picker = $('<select/>');\n",
       "    fmt_picker.addClass('mpl-toolbar-option ui-widget ui-widget-content');\n",
       "    fmt_picker_span.append(fmt_picker);\n",
       "    nav_element.append(fmt_picker_span);\n",
       "    this.format_dropdown = fmt_picker[0];\n",
       "\n",
       "    for (var ind in mpl.extensions) {\n",
       "        var fmt = mpl.extensions[ind];\n",
       "        var option = $(\n",
       "            '<option/>', {selected: fmt === mpl.default_extension}).html(fmt);\n",
       "        fmt_picker.append(option)\n",
       "    }\n",
       "\n",
       "    // Add hover states to the ui-buttons\n",
       "    $( \".ui-button\" ).hover(\n",
       "        function() { $(this).addClass(\"ui-state-hover\");},\n",
       "        function() { $(this).removeClass(\"ui-state-hover\");}\n",
       "    );\n",
       "\n",
       "    var status_bar = $('<span class=\"mpl-message\"/>');\n",
       "    nav_element.append(status_bar);\n",
       "    this.message = status_bar[0];\n",
       "}\n",
       "\n",
       "mpl.figure.prototype.request_resize = function(x_pixels, y_pixels) {\n",
       "    // Request matplotlib to resize the figure. Matplotlib will then trigger a resize in the client,\n",
       "    // which will in turn request a refresh of the image.\n",
       "    this.send_message('resize', {'width': x_pixels, 'height': y_pixels});\n",
       "}\n",
       "\n",
       "mpl.figure.prototype.send_message = function(type, properties) {\n",
       "    properties['type'] = type;\n",
       "    properties['figure_id'] = this.id;\n",
       "    this.ws.send(JSON.stringify(properties));\n",
       "}\n",
       "\n",
       "mpl.figure.prototype.send_draw_message = function() {\n",
       "    if (!this.waiting) {\n",
       "        this.waiting = true;\n",
       "        this.ws.send(JSON.stringify({type: \"draw\", figure_id: this.id}));\n",
       "    }\n",
       "}\n",
       "\n",
       "\n",
       "mpl.figure.prototype.handle_save = function(fig, msg) {\n",
       "    var format_dropdown = fig.format_dropdown;\n",
       "    var format = format_dropdown.options[format_dropdown.selectedIndex].value;\n",
       "    fig.ondownload(fig, format);\n",
       "}\n",
       "\n",
       "\n",
       "mpl.figure.prototype.handle_resize = function(fig, msg) {\n",
       "    var size = msg['size'];\n",
       "    if (size[0] != fig.canvas.width || size[1] != fig.canvas.height) {\n",
       "        fig._resize_canvas(size[0], size[1]);\n",
       "        fig.send_message(\"refresh\", {});\n",
       "    };\n",
       "}\n",
       "\n",
       "mpl.figure.prototype.handle_rubberband = function(fig, msg) {\n",
       "    var x0 = msg['x0'];\n",
       "    var y0 = fig.canvas.height - msg['y0'];\n",
       "    var x1 = msg['x1'];\n",
       "    var y1 = fig.canvas.height - msg['y1'];\n",
       "    x0 = Math.floor(x0) + 0.5;\n",
       "    y0 = Math.floor(y0) + 0.5;\n",
       "    x1 = Math.floor(x1) + 0.5;\n",
       "    y1 = Math.floor(y1) + 0.5;\n",
       "    var min_x = Math.min(x0, x1);\n",
       "    var min_y = Math.min(y0, y1);\n",
       "    var width = Math.abs(x1 - x0);\n",
       "    var height = Math.abs(y1 - y0);\n",
       "\n",
       "    fig.rubberband_context.clearRect(\n",
       "        0, 0, fig.canvas.width, fig.canvas.height);\n",
       "\n",
       "    fig.rubberband_context.strokeRect(min_x, min_y, width, height);\n",
       "}\n",
       "\n",
       "mpl.figure.prototype.handle_figure_label = function(fig, msg) {\n",
       "    // Updates the figure title.\n",
       "    fig.header.textContent = msg['label'];\n",
       "}\n",
       "\n",
       "mpl.figure.prototype.handle_cursor = function(fig, msg) {\n",
       "    var cursor = msg['cursor'];\n",
       "    switch(cursor)\n",
       "    {\n",
       "    case 0:\n",
       "        cursor = 'pointer';\n",
       "        break;\n",
       "    case 1:\n",
       "        cursor = 'default';\n",
       "        break;\n",
       "    case 2:\n",
       "        cursor = 'crosshair';\n",
       "        break;\n",
       "    case 3:\n",
       "        cursor = 'move';\n",
       "        break;\n",
       "    }\n",
       "    fig.rubberband_canvas.style.cursor = cursor;\n",
       "}\n",
       "\n",
       "mpl.figure.prototype.handle_message = function(fig, msg) {\n",
       "    fig.message.textContent = msg['message'];\n",
       "}\n",
       "\n",
       "mpl.figure.prototype.handle_draw = function(fig, msg) {\n",
       "    // Request the server to send over a new figure.\n",
       "    fig.send_draw_message();\n",
       "}\n",
       "\n",
       "mpl.figure.prototype.handle_image_mode = function(fig, msg) {\n",
       "    fig.image_mode = msg['mode'];\n",
       "}\n",
       "\n",
       "mpl.figure.prototype.updated_canvas_event = function() {\n",
       "    // Called whenever the canvas gets updated.\n",
       "    this.send_message(\"ack\", {});\n",
       "}\n",
       "\n",
       "// A function to construct a web socket function for onmessage handling.\n",
       "// Called in the figure constructor.\n",
       "mpl.figure.prototype._make_on_message_function = function(fig) {\n",
       "    return function socket_on_message(evt) {\n",
       "        if (evt.data instanceof Blob) {\n",
       "            /* FIXME: We get \"Resource interpreted as Image but\n",
       "             * transferred with MIME type text/plain:\" errors on\n",
       "             * Chrome.  But how to set the MIME type?  It doesn't seem\n",
       "             * to be part of the websocket stream */\n",
       "            evt.data.type = \"image/png\";\n",
       "\n",
       "            /* Free the memory for the previous frames */\n",
       "            if (fig.imageObj.src) {\n",
       "                (window.URL || window.webkitURL).revokeObjectURL(\n",
       "                    fig.imageObj.src);\n",
       "            }\n",
       "\n",
       "            fig.imageObj.src = (window.URL || window.webkitURL).createObjectURL(\n",
       "                evt.data);\n",
       "            fig.updated_canvas_event();\n",
       "            return;\n",
       "        }\n",
       "        else if (typeof evt.data === 'string' && evt.data.slice(0, 21) == \"data:image/png;base64\") {\n",
       "            fig.imageObj.src = evt.data;\n",
       "            fig.updated_canvas_event();\n",
       "            return;\n",
       "        }\n",
       "\n",
       "        var msg = JSON.parse(evt.data);\n",
       "        var msg_type = msg['type'];\n",
       "\n",
       "        // Call the  \"handle_{type}\" callback, which takes\n",
       "        // the figure and JSON message as its only arguments.\n",
       "        try {\n",
       "            var callback = fig[\"handle_\" + msg_type];\n",
       "        } catch (e) {\n",
       "            console.log(\"No handler for the '\" + msg_type + \"' message type: \", msg);\n",
       "            return;\n",
       "        }\n",
       "\n",
       "        if (callback) {\n",
       "            try {\n",
       "                // console.log(\"Handling '\" + msg_type + \"' message: \", msg);\n",
       "                callback(fig, msg);\n",
       "            } catch (e) {\n",
       "                console.log(\"Exception inside the 'handler_\" + msg_type + \"' callback:\", e, e.stack, msg);\n",
       "            }\n",
       "        }\n",
       "    };\n",
       "}\n",
       "\n",
       "// from http://stackoverflow.com/questions/1114465/getting-mouse-location-in-canvas\n",
       "mpl.findpos = function(e) {\n",
       "    //this section is from http://www.quirksmode.org/js/events_properties.html\n",
       "    var targ;\n",
       "    if (!e)\n",
       "        e = window.event;\n",
       "    if (e.target)\n",
       "        targ = e.target;\n",
       "    else if (e.srcElement)\n",
       "        targ = e.srcElement;\n",
       "    if (targ.nodeType == 3) // defeat Safari bug\n",
       "        targ = targ.parentNode;\n",
       "\n",
       "    // jQuery normalizes the pageX and pageY\n",
       "    // pageX,Y are the mouse positions relative to the document\n",
       "    // offset() returns the position of the element relative to the document\n",
       "    var x = e.pageX - $(targ).offset().left;\n",
       "    var y = e.pageY - $(targ).offset().top;\n",
       "\n",
       "    return {\"x\": x, \"y\": y};\n",
       "};\n",
       "\n",
       "mpl.figure.prototype.mouse_event = function(event, name) {\n",
       "    var canvas_pos = mpl.findpos(event)\n",
       "\n",
       "    if (name === 'button_press')\n",
       "    {\n",
       "        this.canvas.focus();\n",
       "        this.canvas_div.focus();\n",
       "    }\n",
       "\n",
       "    var x = canvas_pos.x;\n",
       "    var y = canvas_pos.y;\n",
       "\n",
       "    this.send_message(name, {x: x, y: y, button: event.button,\n",
       "                             step: event.step});\n",
       "\n",
       "    /* This prevents the web browser from automatically changing to\n",
       "     * the text insertion cursor when the button is pressed.  We want\n",
       "     * to control all of the cursor setting manually through the\n",
       "     * 'cursor' event from matplotlib */\n",
       "    event.preventDefault();\n",
       "    return false;\n",
       "}\n",
       "\n",
       "mpl.figure.prototype._key_event_extra = function(event, name) {\n",
       "    // Handle any extra behaviour associated with a key event\n",
       "}\n",
       "\n",
       "mpl.figure.prototype.key_event = function(event, name) {\n",
       "\n",
       "    // Prevent repeat events\n",
       "    if (name == 'key_press')\n",
       "    {\n",
       "        if (event.which === this._key)\n",
       "            return;\n",
       "        else\n",
       "            this._key = event.which;\n",
       "    }\n",
       "    if (name == 'key_release')\n",
       "        this._key = null;\n",
       "\n",
       "    var value = '';\n",
       "    if (event.ctrlKey && event.which != 17)\n",
       "        value += \"ctrl+\";\n",
       "    if (event.altKey && event.which != 18)\n",
       "        value += \"alt+\";\n",
       "    if (event.shiftKey && event.which != 16)\n",
       "        value += \"shift+\";\n",
       "\n",
       "    value += 'k';\n",
       "    value += event.which.toString();\n",
       "\n",
       "    this._key_event_extra(event, name);\n",
       "\n",
       "    this.send_message(name, {key: value});\n",
       "    return false;\n",
       "}\n",
       "\n",
       "mpl.figure.prototype.toolbar_button_onclick = function(name) {\n",
       "    if (name == 'download') {\n",
       "        this.handle_save(this, null);\n",
       "    } else {\n",
       "        this.send_message(\"toolbar_button\", {name: name});\n",
       "    }\n",
       "};\n",
       "\n",
       "mpl.figure.prototype.toolbar_button_onmouseover = function(tooltip) {\n",
       "    this.message.textContent = tooltip;\n",
       "};\n",
       "mpl.toolbar_items = [[\"Home\", \"Reset original view\", \"fa fa-home icon-home\", \"home\"], [\"Back\", \"Back to  previous view\", \"fa fa-arrow-left icon-arrow-left\", \"back\"], [\"Forward\", \"Forward to next view\", \"fa fa-arrow-right icon-arrow-right\", \"forward\"], [\"\", \"\", \"\", \"\"], [\"Pan\", \"Pan axes with left mouse, zoom with right\", \"fa fa-arrows icon-move\", \"pan\"], [\"Zoom\", \"Zoom to rectangle\", \"fa fa-square-o icon-check-empty\", \"zoom\"], [\"\", \"\", \"\", \"\"], [\"Download\", \"Download plot\", \"fa fa-floppy-o icon-save\", \"download\"]];\n",
       "\n",
       "mpl.extensions = [\"eps\", \"jpeg\", \"pdf\", \"png\", \"ps\", \"raw\", \"svg\", \"tif\"];\n",
       "\n",
       "mpl.default_extension = \"png\";var comm_websocket_adapter = function(comm) {\n",
       "    // Create a \"websocket\"-like object which calls the given IPython comm\n",
       "    // object with the appropriate methods. Currently this is a non binary\n",
       "    // socket, so there is still some room for performance tuning.\n",
       "    var ws = {};\n",
       "\n",
       "    ws.close = function() {\n",
       "        comm.close()\n",
       "    };\n",
       "    ws.send = function(m) {\n",
       "        //console.log('sending', m);\n",
       "        comm.send(m);\n",
       "    };\n",
       "    // Register the callback with on_msg.\n",
       "    comm.on_msg(function(msg) {\n",
       "        //console.log('receiving', msg['content']['data'], msg);\n",
       "        // Pass the mpl event to the overriden (by mpl) onmessage function.\n",
       "        ws.onmessage(msg['content']['data'])\n",
       "    });\n",
       "    return ws;\n",
       "}\n",
       "\n",
       "mpl.mpl_figure_comm = function(comm, msg) {\n",
       "    // This is the function which gets called when the mpl process\n",
       "    // starts-up an IPython Comm through the \"matplotlib\" channel.\n",
       "\n",
       "    var id = msg.content.data.id;\n",
       "    // Get hold of the div created by the display call when the Comm\n",
       "    // socket was opened in Python.\n",
       "    var element = $(\"#\" + id);\n",
       "    var ws_proxy = comm_websocket_adapter(comm)\n",
       "\n",
       "    function ondownload(figure, format) {\n",
       "        window.open(figure.imageObj.src);\n",
       "    }\n",
       "\n",
       "    var fig = new mpl.figure(id, ws_proxy,\n",
       "                           ondownload,\n",
       "                           element.get(0));\n",
       "\n",
       "    // Call onopen now - mpl needs it, as it is assuming we've passed it a real\n",
       "    // web socket which is closed, not our websocket->open comm proxy.\n",
       "    ws_proxy.onopen();\n",
       "\n",
       "    fig.parent_element = element.get(0);\n",
       "    fig.cell_info = mpl.find_output_cell(\"<div id='\" + id + \"'></div>\");\n",
       "    if (!fig.cell_info) {\n",
       "        console.error(\"Failed to find cell for figure\", id, fig);\n",
       "        return;\n",
       "    }\n",
       "\n",
       "    var output_index = fig.cell_info[2]\n",
       "    var cell = fig.cell_info[0];\n",
       "\n",
       "};\n",
       "\n",
       "mpl.figure.prototype.handle_close = function(fig, msg) {\n",
       "    // Update the output cell to use the data from the current canvas.\n",
       "    fig.push_to_output();\n",
       "    var dataURL = fig.canvas.toDataURL();\n",
       "    // Re-enable the keyboard manager in IPython - without this line, in FF,\n",
       "    // the notebook keyboard shortcuts fail.\n",
       "    IPython.keyboard_manager.enable()\n",
       "    $(fig.parent_element).html('<img src=\"' + dataURL + '\">');\n",
       "    fig.send_message('closing', {});\n",
       "    fig.ws.close()\n",
       "}\n",
       "\n",
       "mpl.figure.prototype.push_to_output = function(remove_interactive) {\n",
       "    // Turn the data on the canvas into data in the output cell.\n",
       "    var dataURL = this.canvas.toDataURL();\n",
       "    this.cell_info[1]['text/html'] = '<img src=\"' + dataURL + '\">';\n",
       "}\n",
       "\n",
       "mpl.figure.prototype.updated_canvas_event = function() {\n",
       "    // Tell IPython that the notebook contents must change.\n",
       "    IPython.notebook.set_dirty(true);\n",
       "    this.send_message(\"ack\", {});\n",
       "    var fig = this;\n",
       "    // Wait a second, then push the new image to the DOM so\n",
       "    // that it is saved nicely (might be nice to debounce this).\n",
       "    setTimeout(function () { fig.push_to_output() }, 1000);\n",
       "}\n",
       "\n",
       "mpl.figure.prototype._init_toolbar = function() {\n",
       "    var fig = this;\n",
       "\n",
       "    var nav_element = $('<div/>')\n",
       "    nav_element.attr('style', 'width: 100%');\n",
       "    this.root.append(nav_element);\n",
       "\n",
       "    // Define a callback function for later on.\n",
       "    function toolbar_event(event) {\n",
       "        return fig.toolbar_button_onclick(event['data']);\n",
       "    }\n",
       "    function toolbar_mouse_event(event) {\n",
       "        return fig.toolbar_button_onmouseover(event['data']);\n",
       "    }\n",
       "\n",
       "    for(var toolbar_ind in mpl.toolbar_items){\n",
       "        var name = mpl.toolbar_items[toolbar_ind][0];\n",
       "        var tooltip = mpl.toolbar_items[toolbar_ind][1];\n",
       "        var image = mpl.toolbar_items[toolbar_ind][2];\n",
       "        var method_name = mpl.toolbar_items[toolbar_ind][3];\n",
       "\n",
       "        if (!name) { continue; };\n",
       "\n",
       "        var button = $('<button class=\"btn btn-default\" href=\"#\" title=\"' + name + '\"><i class=\"fa ' + image + ' fa-lg\"></i></button>');\n",
       "        button.click(method_name, toolbar_event);\n",
       "        button.mouseover(tooltip, toolbar_mouse_event);\n",
       "        nav_element.append(button);\n",
       "    }\n",
       "\n",
       "    // Add the status bar.\n",
       "    var status_bar = $('<span class=\"mpl-message\" style=\"text-align:right; float: right;\"/>');\n",
       "    nav_element.append(status_bar);\n",
       "    this.message = status_bar[0];\n",
       "\n",
       "    // Add the close button to the window.\n",
       "    var buttongrp = $('<div class=\"btn-group inline pull-right\"></div>');\n",
       "    var button = $('<button class=\"btn btn-mini btn-danger\" href=\"#\" title=\"Close figure\"><i class=\"fa fa-times icon-remove icon-large\"></i></button>');\n",
       "    button.click(function (evt) { fig.handle_close(fig, {}); } );\n",
       "    button.mouseover('Close figure', toolbar_mouse_event);\n",
       "    buttongrp.append(button);\n",
       "    var titlebar = this.root.find($('.ui-dialog-titlebar'));\n",
       "    titlebar.prepend(buttongrp);\n",
       "}\n",
       "\n",
       "\n",
       "mpl.figure.prototype._canvas_extra_style = function(el){\n",
       "    // this is important to make the div 'focusable\n",
       "    el.attr('tabindex', 0)\n",
       "    // reach out to IPython and tell the keyboard manager to turn it's self\n",
       "    // off when our div gets focus\n",
       "\n",
       "    // location in version 3\n",
       "    if (IPython.notebook.keyboard_manager) {\n",
       "        IPython.notebook.keyboard_manager.register_events(el);\n",
       "    }\n",
       "    else {\n",
       "        // location in version 2\n",
       "        IPython.keyboard_manager.register_events(el);\n",
       "    }\n",
       "\n",
       "}\n",
       "\n",
       "mpl.figure.prototype._key_event_extra = function(event, name) {\n",
       "    var manager = IPython.notebook.keyboard_manager;\n",
       "    if (!manager)\n",
       "        manager = IPython.keyboard_manager;\n",
       "\n",
       "    // Check for shift+enter\n",
       "    if (event.shiftKey && event.which == 13) {\n",
       "        this.canvas_div.blur();\n",
       "        event.shiftKey = false;\n",
       "        // Send a \"J\" for go to next cell\n",
       "        event.which = 74;\n",
       "        event.keyCode = 74;\n",
       "        manager.command_mode();\n",
       "        manager.handle_keydown(event);\n",
       "    }\n",
       "}\n",
       "\n",
       "mpl.figure.prototype.handle_save = function(fig, msg) {\n",
       "    fig.ondownload(fig, null);\n",
       "}\n",
       "\n",
       "\n",
       "mpl.find_output_cell = function(html_output) {\n",
       "    // Return the cell and output element which can be found *uniquely* in the notebook.\n",
       "    // Note - this is a bit hacky, but it is done because the \"notebook_saving.Notebook\"\n",
       "    // IPython event is triggered only after the cells have been serialised, which for\n",
       "    // our purposes (turning an active figure into a static one), is too late.\n",
       "    var cells = IPython.notebook.get_cells();\n",
       "    var ncells = cells.length;\n",
       "    for (var i=0; i<ncells; i++) {\n",
       "        var cell = cells[i];\n",
       "        if (cell.cell_type === 'code'){\n",
       "            for (var j=0; j<cell.output_area.outputs.length; j++) {\n",
       "                var data = cell.output_area.outputs[j];\n",
       "                if (data.data) {\n",
       "                    // IPython >= 3 moved mimebundle to data attribute of output\n",
       "                    data = data.data;\n",
       "                }\n",
       "                if (data['text/html'] == html_output) {\n",
       "                    return [cell, data, j];\n",
       "                }\n",
       "            }\n",
       "        }\n",
       "    }\n",
       "}\n",
       "\n",
       "// Register the function which deals with the matplotlib target/channel.\n",
       "// The kernel may be null if the page has been refreshed.\n",
       "if (IPython.notebook.kernel != null) {\n",
       "    IPython.notebook.kernel.comm_manager.register_target('matplotlib', mpl.mpl_figure_comm);\n",
       "}\n"
      ],
      "text/plain": [
       "<IPython.core.display.Javascript object>"
      ]
     },
     "metadata": {},
     "output_type": "display_data"
    },
    {
     "data": {
      "text/html": [
       "<img src=\"data:image/png;base64,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\">"
      ],
      "text/plain": [
       "<IPython.core.display.HTML object>"
      ]
     },
     "metadata": {},
     "output_type": "display_data"
    }
   ],
   "source": [
    "amplitude_image = plt.imshow(arr)"
   ]
  },
  {
   "cell_type": "code",
   "execution_count": 33,
   "metadata": {
    "collapsed": false
   },
   "outputs": [],
   "source": [
    "plt.imshow(arr).set_cmap('gray')"
   ]
  },
  {
   "cell_type": "code",
   "execution_count": 34,
   "metadata": {
    "collapsed": false
   },
   "outputs": [],
   "source": [
    "pcl = h5['/o3d3xx/camera/xyzi/000000000']"
   ]
  },
  {
   "cell_type": "code",
   "execution_count": 35,
   "metadata": {
    "collapsed": false
   },
   "outputs": [
    {
     "data": {
      "text/plain": [
       "<HDF5 dataset \"000000000\": shape (132, 176, 4), type \"<f4\">"
      ]
     },
     "execution_count": 35,
     "metadata": {},
     "output_type": "execute_result"
    }
   ],
   "source": [
    "pcl"
   ]
  },
  {
   "cell_type": "code",
   "execution_count": 36,
   "metadata": {
    "collapsed": false
   },
   "outputs": [],
   "source": [
    "cloud = pcl[...]"
   ]
  },
  {
   "cell_type": "code",
   "execution_count": 37,
   "metadata": {
    "collapsed": false
   },
   "outputs": [
    {
     "data": {
      "text/plain": [
       "(132, 176, 4)"
      ]
     },
     "execution_count": 37,
     "metadata": {},
     "output_type": "execute_result"
    }
   ],
   "source": [
    "cloud.shape"
   ]
  },
  {
   "cell_type": "code",
   "execution_count": 38,
   "metadata": {
    "collapsed": false
   },
   "outputs": [],
   "source": [
    "x = cloud[:,:,0]\n",
    "y = cloud[:,:,1]\n",
    "z = cloud[:,:,2]\n",
    "i = cloud[:,:,3]"
   ]
  },
  {
   "cell_type": "code",
   "execution_count": 39,
   "metadata": {
    "collapsed": false
   },
   "outputs": [
    {
     "data": {
      "text/plain": [
       "array([[ 1219.,  1089.,   985., ...,  1197.,  1162.,  1093.],\n",
       "       [  718.,   521.,   660., ...,  1193.,  1164.,  1119.],\n",
       "       [  722.,   681.,   893., ...,  1187.,  1183.,  1152.],\n",
       "       ..., \n",
       "       [  726.,   282.,   287., ...,   314.,   309.,   284.],\n",
       "       [  674.,   283.,   297., ...,   306.,   300.,   295.],\n",
       "       [  596.,   275.,   287., ...,   306.,   311.,   304.]], dtype=float32)"
      ]
     },
     "execution_count": 39,
     "metadata": {},
     "output_type": "execute_result"
    }
   ],
   "source": [
    "i"
   ]
  },
  {
   "cell_type": "code",
   "execution_count": 40,
   "metadata": {
    "collapsed": false
   },
   "outputs": [],
   "source": [
    "a = plt.imshow(i)\n",
    "a.set_cmap('gray')"
   ]
  },
  {
   "cell_type": "code",
   "execution_count": 41,
   "metadata": {
    "collapsed": false
   },
   "outputs": [],
   "source": [
    "from mpl_toolkits.mplot3d import Axes3D"
   ]
  },
  {
   "cell_type": "code",
   "execution_count": 50,
   "metadata": {
    "collapsed": false
   },
   "outputs": [
    {
     "data": {
      "text/plain": [
       "<mpl_toolkits.mplot3d.art3d.Path3DCollection at 0x7f03cc295dd0>"
      ]
     },
     "execution_count": 50,
     "metadata": {},
     "output_type": "execute_result"
    }
   ],
   "source": [
    "ax = plt.axes(projection='3d')\n",
    "ax.scatter(x, y, z, '.', s=.05, c=i)"
   ]
  },
  {
   "cell_type": "code",
   "execution_count": 43,
   "metadata": {
    "collapsed": false
   },
   "outputs": [],
   "source": [
    "#ax2 = plt.axes(projection='3d')\n",
    "#for row in range(132):\n",
    "#    for col in range(176):\n",
    "#        ax2.scatter(cloud[row,col,0],\n",
    "#                    cloud[row,col,1],\n",
    "#                    cloud[row,col,2], \"%s.\" % cloud[row,col,3])"
   ]
  },
  {
   "cell_type": "code",
   "execution_count": 49,
   "metadata": {
    "collapsed": false
   },
   "outputs": [],
   "source": [
    "plt.set_cmap('jet')"
   ]
  },
  {
   "cell_type": "code",
   "execution_count": null,
   "metadata": {
    "collapsed": true
   },
   "outputs": [],
   "source": []
  }
 ],
 "metadata": {
  "kernelspec": {
   "display_name": "Python 2",
   "language": "python",
   "name": "python2"
  },
  "language_info": {
   "codemirror_mode": {
    "name": "ipython",
    "version": 2
   },
   "file_extension": ".py",
   "mimetype": "text/x-python",
   "name": "python",
   "nbconvert_exporter": "python",
   "pygments_lexer": "ipython2",
   "version": "2.7.10"
  }
 },
 "nbformat": 4,
 "nbformat_minor": 0
}
